{
  "nbformat": 4,
  "nbformat_minor": 0,
  "metadata": {
    "colab": {
      "provenance": [],
      "authorship_tag": "ABX9TyM81zFMQSpuY51Dg9/IK1Cm",
      "include_colab_link": true
    },
    "kernelspec": {
      "name": "python3",
      "display_name": "Python 3"
    },
    "language_info": {
      "name": "python"
    }
  },
  "cells": [
    {
      "cell_type": "markdown",
      "metadata": {
        "id": "view-in-github",
        "colab_type": "text"
      },
      "source": [
        "<a href=\"https://colab.research.google.com/github/Supriyo-I/LGMVIP-DataScience-Task-2/blob/main/stockmarketprediction.ipynb\" target=\"_parent\"><img src=\"https://colab.research.google.com/assets/colab-badge.svg\" alt=\"Open In Colab\"/></a>"
      ]
    },
    {
      "cell_type": "code",
      "execution_count": null,
      "metadata": {
        "id": "SyucWELsHZW4"
      },
      "outputs": [],
      "source": [
        "import numpy as np\n",
        "import matplotlib.pyplot as plt\n",
        "import pandas as pd\n",
        "import seaborn as sns\n",
        "%matplotlib inline"
      ]
    },
    {
      "cell_type": "code",
      "source": [
        "from keras.models import Sequential\n",
        "from keras.layers import LSTM\n",
        "from keras.layers import Dropout\n",
        "from keras.layers import Dense\n",
        "from sklearn.preprocessing import MinMaxScaler\n",
        "from sklearn.model_selection import TimeSeriesSplit\n",
        "from keras.utils.vis_utils import plot_model"
      ],
      "metadata": {
        "id": "HEah-i9RZZyo"
      },
      "execution_count": 109,
      "outputs": []
    },
    {
      "cell_type": "code",
      "source": [
        "url = 'https://raw.githubusercontent.com/mwitiderrick/stockprice/master/NSE-TATAGLOBAL.csv'\n",
        "df = pd.read_csv(url)\n",
        "training_set = df.iloc[:, 1:2].values"
      ],
      "metadata": {
        "id": "nfqvY3NfK03P"
      },
      "execution_count": 99,
      "outputs": []
    },
    {
      "cell_type": "code",
      "source": [
        "dataset_train.head()"
      ],
      "metadata": {
        "colab": {
          "base_uri": "https://localhost:8080/",
          "height": 206
        },
        "id": "9Jz-H3GtK7QT",
        "outputId": "6eff2eb2-7598-47e1-a008-bb21dda7f0a8"
      },
      "execution_count": null,
      "outputs": [
        {
          "output_type": "execute_result",
          "data": {
            "text/plain": [
              "         Date    Open    High     Low    Last   Close  Total Trade Quantity  \\\n",
              "0  2018-09-28  234.05  235.95  230.20  233.50  233.75               3069914   \n",
              "1  2018-09-27  234.55  236.80  231.10  233.80  233.25               5082859   \n",
              "2  2018-09-26  240.00  240.00  232.50  235.00  234.25               2240909   \n",
              "3  2018-09-25  233.30  236.75  232.00  236.25  236.10               2349368   \n",
              "4  2018-09-24  233.55  239.20  230.75  234.00  233.30               3423509   \n",
              "\n",
              "   Turnover (Lacs)  \n",
              "0          7162.35  \n",
              "1         11859.95  \n",
              "2          5248.60  \n",
              "3          5503.90  \n",
              "4          7999.55  "
            ],
            "text/html": [
              "\n",
              "  <div id=\"df-c7c75456-703c-4d42-9c18-8bb15aab5902\">\n",
              "    <div class=\"colab-df-container\">\n",
              "      <div>\n",
              "<style scoped>\n",
              "    .dataframe tbody tr th:only-of-type {\n",
              "        vertical-align: middle;\n",
              "    }\n",
              "\n",
              "    .dataframe tbody tr th {\n",
              "        vertical-align: top;\n",
              "    }\n",
              "\n",
              "    .dataframe thead th {\n",
              "        text-align: right;\n",
              "    }\n",
              "</style>\n",
              "<table border=\"1\" class=\"dataframe\">\n",
              "  <thead>\n",
              "    <tr style=\"text-align: right;\">\n",
              "      <th></th>\n",
              "      <th>Date</th>\n",
              "      <th>Open</th>\n",
              "      <th>High</th>\n",
              "      <th>Low</th>\n",
              "      <th>Last</th>\n",
              "      <th>Close</th>\n",
              "      <th>Total Trade Quantity</th>\n",
              "      <th>Turnover (Lacs)</th>\n",
              "    </tr>\n",
              "  </thead>\n",
              "  <tbody>\n",
              "    <tr>\n",
              "      <th>0</th>\n",
              "      <td>2018-09-28</td>\n",
              "      <td>234.05</td>\n",
              "      <td>235.95</td>\n",
              "      <td>230.20</td>\n",
              "      <td>233.50</td>\n",
              "      <td>233.75</td>\n",
              "      <td>3069914</td>\n",
              "      <td>7162.35</td>\n",
              "    </tr>\n",
              "    <tr>\n",
              "      <th>1</th>\n",
              "      <td>2018-09-27</td>\n",
              "      <td>234.55</td>\n",
              "      <td>236.80</td>\n",
              "      <td>231.10</td>\n",
              "      <td>233.80</td>\n",
              "      <td>233.25</td>\n",
              "      <td>5082859</td>\n",
              "      <td>11859.95</td>\n",
              "    </tr>\n",
              "    <tr>\n",
              "      <th>2</th>\n",
              "      <td>2018-09-26</td>\n",
              "      <td>240.00</td>\n",
              "      <td>240.00</td>\n",
              "      <td>232.50</td>\n",
              "      <td>235.00</td>\n",
              "      <td>234.25</td>\n",
              "      <td>2240909</td>\n",
              "      <td>5248.60</td>\n",
              "    </tr>\n",
              "    <tr>\n",
              "      <th>3</th>\n",
              "      <td>2018-09-25</td>\n",
              "      <td>233.30</td>\n",
              "      <td>236.75</td>\n",
              "      <td>232.00</td>\n",
              "      <td>236.25</td>\n",
              "      <td>236.10</td>\n",
              "      <td>2349368</td>\n",
              "      <td>5503.90</td>\n",
              "    </tr>\n",
              "    <tr>\n",
              "      <th>4</th>\n",
              "      <td>2018-09-24</td>\n",
              "      <td>233.55</td>\n",
              "      <td>239.20</td>\n",
              "      <td>230.75</td>\n",
              "      <td>234.00</td>\n",
              "      <td>233.30</td>\n",
              "      <td>3423509</td>\n",
              "      <td>7999.55</td>\n",
              "    </tr>\n",
              "  </tbody>\n",
              "</table>\n",
              "</div>\n",
              "      <button class=\"colab-df-convert\" onclick=\"convertToInteractive('df-c7c75456-703c-4d42-9c18-8bb15aab5902')\"\n",
              "              title=\"Convert this dataframe to an interactive table.\"\n",
              "              style=\"display:none;\">\n",
              "        \n",
              "  <svg xmlns=\"http://www.w3.org/2000/svg\" height=\"24px\"viewBox=\"0 0 24 24\"\n",
              "       width=\"24px\">\n",
              "    <path d=\"M0 0h24v24H0V0z\" fill=\"none\"/>\n",
              "    <path d=\"M18.56 5.44l.94 2.06.94-2.06 2.06-.94-2.06-.94-.94-2.06-.94 2.06-2.06.94zm-11 1L8.5 8.5l.94-2.06 2.06-.94-2.06-.94L8.5 2.5l-.94 2.06-2.06.94zm10 10l.94 2.06.94-2.06 2.06-.94-2.06-.94-.94-2.06-.94 2.06-2.06.94z\"/><path d=\"M17.41 7.96l-1.37-1.37c-.4-.4-.92-.59-1.43-.59-.52 0-1.04.2-1.43.59L10.3 9.45l-7.72 7.72c-.78.78-.78 2.05 0 2.83L4 21.41c.39.39.9.59 1.41.59.51 0 1.02-.2 1.41-.59l7.78-7.78 2.81-2.81c.8-.78.8-2.07 0-2.86zM5.41 20L4 18.59l7.72-7.72 1.47 1.35L5.41 20z\"/>\n",
              "  </svg>\n",
              "      </button>\n",
              "      \n",
              "  <style>\n",
              "    .colab-df-container {\n",
              "      display:flex;\n",
              "      flex-wrap:wrap;\n",
              "      gap: 12px;\n",
              "    }\n",
              "\n",
              "    .colab-df-convert {\n",
              "      background-color: #E8F0FE;\n",
              "      border: none;\n",
              "      border-radius: 50%;\n",
              "      cursor: pointer;\n",
              "      display: none;\n",
              "      fill: #1967D2;\n",
              "      height: 32px;\n",
              "      padding: 0 0 0 0;\n",
              "      width: 32px;\n",
              "    }\n",
              "\n",
              "    .colab-df-convert:hover {\n",
              "      background-color: #E2EBFA;\n",
              "      box-shadow: 0px 1px 2px rgba(60, 64, 67, 0.3), 0px 1px 3px 1px rgba(60, 64, 67, 0.15);\n",
              "      fill: #174EA6;\n",
              "    }\n",
              "\n",
              "    [theme=dark] .colab-df-convert {\n",
              "      background-color: #3B4455;\n",
              "      fill: #D2E3FC;\n",
              "    }\n",
              "\n",
              "    [theme=dark] .colab-df-convert:hover {\n",
              "      background-color: #434B5C;\n",
              "      box-shadow: 0px 1px 3px 1px rgba(0, 0, 0, 0.15);\n",
              "      filter: drop-shadow(0px 1px 2px rgba(0, 0, 0, 0.3));\n",
              "      fill: #FFFFFF;\n",
              "    }\n",
              "  </style>\n",
              "\n",
              "      <script>\n",
              "        const buttonEl =\n",
              "          document.querySelector('#df-c7c75456-703c-4d42-9c18-8bb15aab5902 button.colab-df-convert');\n",
              "        buttonEl.style.display =\n",
              "          google.colab.kernel.accessAllowed ? 'block' : 'none';\n",
              "\n",
              "        async function convertToInteractive(key) {\n",
              "          const element = document.querySelector('#df-c7c75456-703c-4d42-9c18-8bb15aab5902');\n",
              "          const dataTable =\n",
              "            await google.colab.kernel.invokeFunction('convertToInteractive',\n",
              "                                                     [key], {});\n",
              "          if (!dataTable) return;\n",
              "\n",
              "          const docLinkHtml = 'Like what you see? Visit the ' +\n",
              "            '<a target=\"_blank\" href=https://colab.research.google.com/notebooks/data_table.ipynb>data table notebook</a>'\n",
              "            + ' to learn more about interactive tables.';\n",
              "          element.innerHTML = '';\n",
              "          dataTable['output_type'] = 'display_data';\n",
              "          await google.colab.output.renderOutput(dataTable, element);\n",
              "          const docLink = document.createElement('div');\n",
              "          docLink.innerHTML = docLinkHtml;\n",
              "          element.appendChild(docLink);\n",
              "        }\n",
              "      </script>\n",
              "    </div>\n",
              "  </div>\n",
              "  "
            ]
          },
          "metadata": {},
          "execution_count": 37
        }
      ]
    },
    {
      "cell_type": "code",
      "source": [
        "from sklearn.preprocessing import MinMaxScaler\n",
        "sc = MinMaxScaler(feature_range=(0,1))\n",
        "training_set_scaled = sc.fit_transform(training_set)"
      ],
      "metadata": {
        "id": "SXqjpdvlLBnh"
      },
      "execution_count": null,
      "outputs": []
    },
    {
      "cell_type": "code",
      "source": [
        "X_train = []\n",
        "y_train = []\n",
        "for i in range(60, 2035):\n",
        "  np.append(X_train,training_set_scaled[i-60:i, 0])\n",
        "  np.append(y_train,training_set_scaled[i, 0])\n",
        "  X_train, y_train = np.array(X_train), np.array(y_train)\n",
        "  X_train = np.reshape(X_train, (X_train.shape[0], X_train.shape[-1], 1))"
      ],
      "metadata": {
        "id": "UCd1M1x9Lbdo"
      },
      "execution_count": null,
      "outputs": []
    },
    {
      "cell_type": "code",
      "source": [
        "print(\"Dataframe Shape: \", df.shape)\n",
        "print(\"Null Value Present: \", df.isnull().values.any())"
      ],
      "metadata": {
        "id": "KhKmRSyYuPUN",
        "colab": {
          "base_uri": "https://localhost:8080/"
        },
        "outputId": "d93d130f-7122-4f9e-d0fc-4a335342d147"
      },
      "execution_count": null,
      "outputs": [
        {
          "output_type": "stream",
          "name": "stdout",
          "text": [
            "Dataframe Shape:  (2035, 8)\n",
            "Null Value Present:  False\n"
          ]
        }
      ]
    },
    {
      "cell_type": "code",
      "source": [
        "df['Close'].plot()"
      ],
      "metadata": {
        "colab": {
          "base_uri": "https://localhost:8080/",
          "height": 447
        },
        "id": "9PtWzjLywRrv",
        "outputId": "b6ac9432-cc7b-42ac-98b5-a90f5eef860e"
      },
      "execution_count": null,
      "outputs": [
        {
          "output_type": "execute_result",
          "data": {
            "text/plain": [
              "<Axes: >"
            ]
          },
          "metadata": {},
          "execution_count": 78
        },
        {
          "output_type": "display_data",
          "data": {
            "text/plain": [
              "<Figure size 640x480 with 1 Axes>"
            ],
            "image/png": "[encoded data removed]"
          },
          "metadata": {}
        }
      ]
    },
    {
      "cell_type": "code",
      "source": [
        "#Set Target Variable\n",
        "output_var = pd.DataFrame(df['Close'])\n",
        "#Selecting the Features\n",
        "features = ['Open', 'High', 'Low','Total Trade Quantity']"
      ],
      "metadata": {
        "id": "h9kAg3jbw11G"
      },
      "execution_count": 100,
      "outputs": []
    },
    {
      "cell_type": "code",
      "source": [
        "scaler = MinMaxScaler()\n",
        "feature_transform = scaler.fit_transform(df[features])\n",
        "feature_transform= pd.DataFrame(columns=features, data=feature_transform, index= df.index)\n",
        "feature_transform.head()"
      ],
      "metadata": {
        "colab": {
          "base_uri": "https://localhost:8080/",
          "height": 206
        },
        "id": "d8hejReXxJB8",
        "outputId": "97927e89-768c-4fbf-bbc8-7f86a3431cc5"
      },
      "execution_count": 101,
      "outputs": [
        {
          "output_type": "execute_result",
          "data": {
            "text/plain": [
              "       Open      High       Low  Total Trade Quantity\n",
              "0  0.620235  0.622688  0.621560              0.103951\n",
              "1  0.622263  0.626144  0.625285              0.173002\n",
              "2  0.644363  0.639154  0.631078              0.075513\n",
              "3  0.617194  0.625940  0.629009              0.079233\n",
              "4  0.618208  0.635902  0.623836              0.116080"
            ],
            "text/html": [
              "\n",
              "  <div id=\"df-3d0b22f6-cbec-42da-a2ef-88a869ae537e\">\n",
              "    <div class=\"colab-df-container\">\n",
              "      <div>\n",
              "<style scoped>\n",
              "    .dataframe tbody tr th:only-of-type {\n",
              "        vertical-align: middle;\n",
              "    }\n",
              "\n",
              "    .dataframe tbody tr th {\n",
              "        vertical-align: top;\n",
              "    }\n",
              "\n",
              "    .dataframe thead th {\n",
              "        text-align: right;\n",
              "    }\n",
              "</style>\n",
              "<table border=\"1\" class=\"dataframe\">\n",
              "  <thead>\n",
              "    <tr style=\"text-align: right;\">\n",
              "      <th></th>\n",
              "      <th>Open</th>\n",
              "      <th>High</th>\n",
              "      <th>Low</th>\n",
              "      <th>Total Trade Quantity</th>\n",
              "    </tr>\n",
              "  </thead>\n",
              "  <tbody>\n",
              "    <tr>\n",
              "      <th>0</th>\n",
              "      <td>0.620235</td>\n",
              "      <td>0.622688</td>\n",
              "      <td>0.621560</td>\n",
              "      <td>0.103951</td>\n",
              "    </tr>\n",
              "    <tr>\n",
              "      <th>1</th>\n",
              "      <td>0.622263</td>\n",
              "      <td>0.626144</td>\n",
              "      <td>0.625285</td>\n",
              "      <td>0.173002</td>\n",
              "    </tr>\n",
              "    <tr>\n",
              "      <th>2</th>\n",
              "      <td>0.644363</td>\n",
              "      <td>0.639154</td>\n",
              "      <td>0.631078</td>\n",
              "      <td>0.075513</td>\n",
              "    </tr>\n",
              "    <tr>\n",
              "      <th>3</th>\n",
              "      <td>0.617194</td>\n",
              "      <td>0.625940</td>\n",
              "      <td>0.629009</td>\n",
              "      <td>0.079233</td>\n",
              "    </tr>\n",
              "    <tr>\n",
              "      <th>4</th>\n",
              "      <td>0.618208</td>\n",
              "      <td>0.635902</td>\n",
              "      <td>0.623836</td>\n",
              "      <td>0.116080</td>\n",
              "    </tr>\n",
              "  </tbody>\n",
              "</table>\n",
              "</div>\n",
              "      <button class=\"colab-df-convert\" onclick=\"convertToInteractive('df-3d0b22f6-cbec-42da-a2ef-88a869ae537e')\"\n",
              "              title=\"Convert this dataframe to an interactive table.\"\n",
              "              style=\"display:none;\">\n",
              "        \n",
              "  <svg xmlns=\"http://www.w3.org/2000/svg\" height=\"24px\"viewBox=\"0 0 24 24\"\n",
              "       width=\"24px\">\n",
              "    <path d=\"M0 0h24v24H0V0z\" fill=\"none\"/>\n",
              "    <path d=\"M18.56 5.44l.94 2.06.94-2.06 2.06-.94-2.06-.94-.94-2.06-.94 2.06-2.06.94zm-11 1L8.5 8.5l.94-2.06 2.06-.94-2.06-.94L8.5 2.5l-.94 2.06-2.06.94zm10 10l.94 2.06.94-2.06 2.06-.94-2.06-.94-.94-2.06-.94 2.06-2.06.94z\"/><path d=\"M17.41 7.96l-1.37-1.37c-.4-.4-.92-.59-1.43-.59-.52 0-1.04.2-1.43.59L10.3 9.45l-7.72 7.72c-.78.78-.78 2.05 0 2.83L4 21.41c.39.39.9.59 1.41.59.51 0 1.02-.2 1.41-.59l7.78-7.78 2.81-2.81c.8-.78.8-2.07 0-2.86zM5.41 20L4 18.59l7.72-7.72 1.47 1.35L5.41 20z\"/>\n",
              "  </svg>\n",
              "      </button>\n",
              "      \n",
              "  <style>\n",
              "    .colab-df-container {\n",
              "      display:flex;\n",
              "      flex-wrap:wrap;\n",
              "      gap: 12px;\n",
              "    }\n",
              "\n",
              "    .colab-df-convert {\n",
              "      background-color: #E8F0FE;\n",
              "      border: none;\n",
              "      border-radius: 50%;\n",
              "      cursor: pointer;\n",
              "      display: none;\n",
              "      fill: #1967D2;\n",
              "      height: 32px;\n",
              "      padding: 0 0 0 0;\n",
              "      width: 32px;\n",
              "    }\n",
              "\n",
              "    .colab-df-convert:hover {\n",
              "      background-color: #E2EBFA;\n",
              "      box-shadow: 0px 1px 2px rgba(60, 64, 67, 0.3), 0px 1px 3px 1px rgba(60, 64, 67, 0.15);\n",
              "      fill: #174EA6;\n",
              "    }\n",
              "\n",
              "    [theme=dark] .colab-df-convert {\n",
              "      background-color: #3B4455;\n",
              "      fill: #D2E3FC;\n",
              "    }\n",
              "\n",
              "    [theme=dark] .colab-df-convert:hover {\n",
              "      background-color: #434B5C;\n",
              "      box-shadow: 0px 1px 3px 1px rgba(0, 0, 0, 0.15);\n",
              "      filter: drop-shadow(0px 1px 2px rgba(0, 0, 0, 0.3));\n",
              "      fill: #FFFFFF;\n",
              "    }\n",
              "  </style>\n",
              "\n",
              "      <script>\n",
              "        const buttonEl =\n",
              "          document.querySelector('#df-3d0b22f6-cbec-42da-a2ef-88a869ae537e button.colab-df-convert');\n",
              "        buttonEl.style.display =\n",
              "          google.colab.kernel.accessAllowed ? 'block' : 'none';\n",
              "\n",
              "        async function convertToInteractive(key) {\n",
              "          const element = document.querySelector('#df-3d0b22f6-cbec-42da-a2ef-88a869ae537e');\n",
              "          const dataTable =\n",
              "            await google.colab.kernel.invokeFunction('convertToInteractive',\n",
              "                                                     [key], {});\n",
              "          if (!dataTable) return;\n",
              "\n",
              "          const docLinkHtml = 'Like what you see? Visit the ' +\n",
              "            '<a target=\"_blank\" href=https://colab.research.google.com/notebooks/data_table.ipynb>data table notebook</a>'\n",
              "            + ' to learn more about interactive tables.';\n",
              "          element.innerHTML = '';\n",
              "          dataTable['output_type'] = 'display_data';\n",
              "          await google.colab.output.renderOutput(dataTable, element);\n",
              "          const docLink = document.createElement('div');\n",
              "          docLink.innerHTML = docLinkHtml;\n",
              "          element.appendChild(docLink);\n",
              "        }\n",
              "      </script>\n",
              "    </div>\n",
              "  </div>\n",
              "  "
            ]
          },
          "metadata": {},
          "execution_count": 101
        }
      ]
    },
    {
      "cell_type": "code",
      "source": [
        "timesplit= TimeSeriesSplit(n_splits=10)\n",
        "for train_index, test_index in timesplit.split(feature_transform):\n",
        "        X_train, X_test = feature_transform[:len(train_index)], feature_transform[len(train_index): (len(train_index)+len(test_index))]\n",
        "        y_train, y_test = output_var[:len(train_index)].values.ravel(), output_var[len(train_index): (len(train_index)+len(test_index))].values.ravel()"
      ],
      "metadata": {
        "id": "DJuLyQc654_F"
      },
      "execution_count": 105,
      "outputs": []
    },
    {
      "cell_type": "code",
      "source": [
        "trainX =np.array(X_train)\n",
        "testX =np.array(X_test)\n",
        "X_train = trainX.reshape(X_train.shape[0], 1, X_train.shape[1])\n",
        "X_test = testX.reshape(X_test.shape[0], 1, X_test.shape[1])"
      ],
      "metadata": {
        "id": "zbUE97Y06cmZ"
      },
      "execution_count": 106,
      "outputs": []
    },
    {
      "cell_type": "code",
      "source": [
        "lstm = Sequential()\n",
        "lstm.add(LSTM(32, input_shape=(1, trainX.shape[1]), activation='relu', return_sequences=False))\n",
        "lstm.add(Dense(1))\n",
        "lstm.compile(loss='mean_squared_error', optimizer='adam')\n",
        "plot_model(lstm, show_shapes=True, show_layer_names=True)"
      ],
      "metadata": {
        "colab": {
          "base_uri": "https://localhost:8080/",
          "height": 312
        },
        "id": "24HTiW1y6jWV",
        "outputId": "d9cf2093-f498-4620-a258-3001a4d07671"
      },
      "execution_count": 110,
      "outputs": [
        {
          "output_type": "execute_result",
          "data": {
            "image/png": "[encoded data removed]",
            "text/plain": [
              "<IPython.core.display.Image object>"
            ]
          },
          "metadata": {},
          "execution_count": 110
        }
      ]
    },
    {
      "cell_type": "code",
      "source": [
        "history=lstm.fit(X_train, y_train, epochs=100, batch_size=8, verbose=1, shuffle=False)"
      ],
      "metadata": {
        "colab": {
          "base_uri": "https://localhost:8080/"
        },
        "id": "lB48iVsd7Ulw",
        "outputId": "c04ebbeb-9669-4363-a248-97da006652e8"
      },
      "execution_count": 111,
      "outputs": [
        {
          "output_type": "stream",
          "name": "stdout",
          "text": [
            "Epoch 1/100\n",
            "232/232 [==============================] - 2s 2ms/step - loss: 25801.2148\n",
            "Epoch 2/100\n",
            "232/232 [==============================] - 1s 3ms/step - loss: 24825.5625\n",
            "Epoch 3/100\n",
            "232/232 [==============================] - 1s 2ms/step - loss: 22043.4668\n",
            "Epoch 4/100\n",
            "232/232 [==============================] - 1s 2ms/step - loss: 17601.8711\n",
            "Epoch 5/100\n",
            "232/232 [==============================] - 1s 2ms/step - loss: 12521.1279\n",
            "Epoch 6/100\n",
            "232/232 [==============================] - 1s 2ms/step - loss: 7919.5947\n",
            "Epoch 7/100\n",
            "232/232 [==============================] - 1s 2ms/step - loss: 4409.6001\n",
            "Epoch 8/100\n",
            "232/232 [==============================] - 1s 2ms/step - loss: 2131.3633\n",
            "Epoch 9/100\n",
            "232/232 [==============================] - 1s 2ms/step - loss: 890.9501\n",
            "Epoch 10/100\n",
            "232/232 [==============================] - 1s 2ms/step - loss: 335.6313\n",
            "Epoch 11/100\n",
            "232/232 [==============================] - 1s 3ms/step - loss: 133.0885\n",
            "Epoch 12/100\n",
            "232/232 [==============================] - 1s 3ms/step - loss: 71.3237\n",
            "Epoch 13/100\n",
            "232/232 [==============================] - 1s 3ms/step - loss: 53.7108\n",
            "Epoch 14/100\n",
            "232/232 [==============================] - 1s 3ms/step - loss: 47.5996\n",
            "Epoch 15/100\n",
            "232/232 [==============================] - 1s 2ms/step - loss: 43.7763\n",
            "Epoch 16/100\n",
            "232/232 [==============================] - 1s 2ms/step - loss: 43.2728\n",
            "Epoch 17/100\n",
            "232/232 [==============================] - 1s 2ms/step - loss: 39.5946\n",
            "Epoch 18/100\n",
            "232/232 [==============================] - 1s 2ms/step - loss: 37.0358\n",
            "Epoch 19/100\n",
            "232/232 [==============================] - 1s 4ms/step - loss: 34.7059\n",
            "Epoch 20/100\n",
            "232/232 [==============================] - 1s 2ms/step - loss: 32.4874\n",
            "Epoch 21/100\n",
            "232/232 [==============================] - 1s 2ms/step - loss: 30.3731\n",
            "Epoch 22/100\n",
            "232/232 [==============================] - 1s 2ms/step - loss: 28.3731\n",
            "Epoch 23/100\n",
            "232/232 [==============================] - 1s 2ms/step - loss: 26.4948\n",
            "Epoch 24/100\n",
            "232/232 [==============================] - 1s 2ms/step - loss: 24.7336\n",
            "Epoch 25/100\n",
            "232/232 [==============================] - 1s 2ms/step - loss: 23.0878\n",
            "Epoch 26/100\n",
            "232/232 [==============================] - 1s 2ms/step - loss: 21.5451\n",
            "Epoch 27/100\n",
            "232/232 [==============================] - 1s 2ms/step - loss: 20.0958\n",
            "Epoch 28/100\n",
            "232/232 [==============================] - 1s 2ms/step - loss: 18.7241\n",
            "Epoch 29/100\n",
            "232/232 [==============================] - 1s 2ms/step - loss: 17.4239\n",
            "Epoch 30/100\n",
            "232/232 [==============================] - 1s 2ms/step - loss: 16.1957\n",
            "Epoch 31/100\n",
            "232/232 [==============================] - 1s 2ms/step - loss: 15.0331\n",
            "Epoch 32/100\n",
            "232/232 [==============================] - 1s 3ms/step - loss: 13.9361\n",
            "Epoch 33/100\n",
            "232/232 [==============================] - 1s 3ms/step - loss: 12.9080\n",
            "Epoch 34/100\n",
            "232/232 [==============================] - 1s 3ms/step - loss: 11.9487\n",
            "Epoch 35/100\n",
            "232/232 [==============================] - 1s 4ms/step - loss: 11.0605\n",
            "Epoch 36/100\n",
            "232/232 [==============================] - 1s 2ms/step - loss: 10.2404\n",
            "Epoch 37/100\n",
            "232/232 [==============================] - 1s 2ms/step - loss: 9.4878\n",
            "Epoch 38/100\n",
            "232/232 [==============================] - 1s 2ms/step - loss: 8.8027\n",
            "Epoch 39/100\n",
            "232/232 [==============================] - 1s 2ms/step - loss: 8.1829\n",
            "Epoch 40/100\n",
            "232/232 [==============================] - 1s 2ms/step - loss: 7.6276\n",
            "Epoch 41/100\n",
            "232/232 [==============================] - 1s 2ms/step - loss: 7.1348\n",
            "Epoch 42/100\n",
            "232/232 [==============================] - 1s 2ms/step - loss: 6.7007\n",
            "Epoch 43/100\n",
            "232/232 [==============================] - 1s 3ms/step - loss: 6.3238\n",
            "Epoch 44/100\n",
            "232/232 [==============================] - 1s 2ms/step - loss: 5.9989\n",
            "Epoch 45/100\n",
            "232/232 [==============================] - 1s 2ms/step - loss: 5.7248\n",
            "Epoch 46/100\n",
            "232/232 [==============================] - 1s 2ms/step - loss: 5.4936\n",
            "Epoch 47/100\n",
            "232/232 [==============================] - 1s 2ms/step - loss: 5.3040\n",
            "Epoch 48/100\n",
            "232/232 [==============================] - 1s 2ms/step - loss: 5.1485\n",
            "Epoch 49/100\n",
            "232/232 [==============================] - 1s 2ms/step - loss: 5.0224\n",
            "Epoch 50/100\n",
            "232/232 [==============================] - 1s 2ms/step - loss: 4.9226\n",
            "Epoch 51/100\n",
            "232/232 [==============================] - 1s 2ms/step - loss: 4.8421\n",
            "Epoch 52/100\n",
            "232/232 [==============================] - 1s 2ms/step - loss: 4.7785\n",
            "Epoch 53/100\n",
            "232/232 [==============================] - 1s 2ms/step - loss: 4.7263\n",
            "Epoch 54/100\n",
            "232/232 [==============================] - 1s 3ms/step - loss: 4.6839\n",
            "Epoch 55/100\n",
            "232/232 [==============================] - 1s 3ms/step - loss: 4.6488\n",
            "Epoch 56/100\n",
            "232/232 [==============================] - 1s 3ms/step - loss: 4.6185\n",
            "Epoch 57/100\n",
            "232/232 [==============================] - 1s 3ms/step - loss: 4.5929\n",
            "Epoch 58/100\n",
            "232/232 [==============================] - 1s 3ms/step - loss: 4.5705\n",
            "Epoch 59/100\n",
            "232/232 [==============================] - 1s 2ms/step - loss: 4.5508\n",
            "Epoch 60/100\n",
            "232/232 [==============================] - 1s 2ms/step - loss: 4.5332\n",
            "Epoch 61/100\n",
            "232/232 [==============================] - 1s 2ms/step - loss: 4.5177\n",
            "Epoch 62/100\n",
            "232/232 [==============================] - 1s 2ms/step - loss: 4.5033\n",
            "Epoch 63/100\n",
            "232/232 [==============================] - 1s 2ms/step - loss: 4.4902\n",
            "Epoch 64/100\n",
            "232/232 [==============================] - 1s 2ms/step - loss: 4.4780\n",
            "Epoch 65/100\n",
            "232/232 [==============================] - 1s 2ms/step - loss: 4.4666\n",
            "Epoch 66/100\n",
            "232/232 [==============================] - 1s 2ms/step - loss: 4.4557\n",
            "Epoch 67/100\n",
            "232/232 [==============================] - 1s 2ms/step - loss: 4.4453\n",
            "Epoch 68/100\n",
            "232/232 [==============================] - 1s 2ms/step - loss: 4.4352\n",
            "Epoch 69/100\n",
            "232/232 [==============================] - 1s 2ms/step - loss: 4.4254\n",
            "Epoch 70/100\n",
            "232/232 [==============================] - 1s 2ms/step - loss: 4.4156\n",
            "Epoch 71/100\n",
            "232/232 [==============================] - 1s 2ms/step - loss: 4.4059\n",
            "Epoch 72/100\n",
            "232/232 [==============================] - 1s 2ms/step - loss: 4.3963\n",
            "Epoch 73/100\n",
            "232/232 [==============================] - 1s 2ms/step - loss: 4.3868\n",
            "Epoch 74/100\n",
            "232/232 [==============================] - 1s 2ms/step - loss: 4.3773\n",
            "Epoch 75/100\n",
            "232/232 [==============================] - 1s 2ms/step - loss: 4.3679\n",
            "Epoch 76/100\n",
            "232/232 [==============================] - 1s 3ms/step - loss: 4.3585\n",
            "Epoch 77/100\n",
            "232/232 [==============================] - 1s 4ms/step - loss: 4.3491\n",
            "Epoch 78/100\n",
            "232/232 [==============================] - 1s 3ms/step - loss: 4.3398\n",
            "Epoch 79/100\n",
            "232/232 [==============================] - 1s 4ms/step - loss: 4.3305\n",
            "Epoch 80/100\n",
            "232/232 [==============================] - 1s 3ms/step - loss: 4.3213\n",
            "Epoch 81/100\n",
            "232/232 [==============================] - 1s 2ms/step - loss: 4.3120\n",
            "Epoch 82/100\n",
            "232/232 [==============================] - 1s 2ms/step - loss: 4.3028\n",
            "Epoch 83/100\n",
            "232/232 [==============================] - 1s 2ms/step - loss: 4.2937\n",
            "Epoch 84/100\n",
            "232/232 [==============================] - 1s 2ms/step - loss: 4.2846\n",
            "Epoch 85/100\n",
            "232/232 [==============================] - 1s 2ms/step - loss: 4.2755\n",
            "Epoch 86/100\n",
            "232/232 [==============================] - 1s 2ms/step - loss: 4.2665\n",
            "Epoch 87/100\n",
            "232/232 [==============================] - 1s 2ms/step - loss: 4.2576\n",
            "Epoch 88/100\n",
            "232/232 [==============================] - 1s 2ms/step - loss: 4.2486\n",
            "Epoch 89/100\n",
            "232/232 [==============================] - 1s 2ms/step - loss: 4.2397\n",
            "Epoch 90/100\n",
            "232/232 [==============================] - 1s 2ms/step - loss: 4.2309\n",
            "Epoch 91/100\n",
            "232/232 [==============================] - 1s 2ms/step - loss: 4.2221\n",
            "Epoch 92/100\n",
            "232/232 [==============================] - 1s 2ms/step - loss: 4.2133\n",
            "Epoch 93/100\n",
            "232/232 [==============================] - 1s 3ms/step - loss: 4.2045\n",
            "Epoch 94/100\n",
            "232/232 [==============================] - 1s 2ms/step - loss: 4.1959\n",
            "Epoch 95/100\n",
            "232/232 [==============================] - 1s 2ms/step - loss: 4.1873\n",
            "Epoch 96/100\n",
            "232/232 [==============================] - 1s 2ms/step - loss: 4.1786\n",
            "Epoch 97/100\n",
            "232/232 [==============================] - 1s 2ms/step - loss: 4.1700\n",
            "Epoch 98/100\n",
            "232/232 [==============================] - 1s 3ms/step - loss: 4.1614\n",
            "Epoch 99/100\n",
            "232/232 [==============================] - 1s 4ms/step - loss: 4.1528\n",
            "Epoch 100/100\n",
            "232/232 [==============================] - 1s 3ms/step - loss: 4.1443\n"
          ]
        }
      ]
    },
    {
      "cell_type": "code",
      "source": [
        "y_pred= lstm.predict(X_test)"
      ],
      "metadata": {
        "colab": {
          "base_uri": "https://localhost:8080/"
        },
        "id": "BIQTZKcA7z8S",
        "outputId": "2b6af0dc-bc98-4ed1-a2f5-b8c3f91daf54"
      },
      "execution_count": 112,
      "outputs": [
        {
          "output_type": "stream",
          "name": "stdout",
          "text": [
            "6/6 [==============================] - 0s 3ms/step\n"
          ]
        }
      ]
    },
    {
      "cell_type": "code",
      "source": [
        "plt.plot(y_test, label='True Value')\n",
        "plt.plot(y_pred, label='LSTM Value')\n",
        "plt.title('Prediction by LSTM')\n",
        "plt.xlabel('Time Scale')\n",
        "plt.ylabel('Scaled rupees')\n",
        "plt.legend()\n",
        "plt.show()"
      ],
      "metadata": {
        "colab": {
          "base_uri": "https://localhost:8080/",
          "height": 472
        },
        "id": "_xsFEwrJ7_JL",
        "outputId": "976476c3-22bc-4c1e-d3df-887d52831520"
      },
      "execution_count": 114,
      "outputs": [
        {
          "output_type": "display_data",
          "data": {
            "text/plain": [
              "<Figure size 640x480 with 1 Axes>"
            ],
            "image/png": "[encoded data removed]"
          },
          "metadata": {}
        }
      ]
    }
  ]
}